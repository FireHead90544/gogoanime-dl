{
  "nbformat": 4,
  "nbformat_minor": 0,
  "metadata": {
    "colab": {
      "name": "gogoanime-dl",
      "provenance": [],
      "collapsed_sections": [],
      "authorship_tag": "ABX9TyPNuse/vhESaE5rv9a8+m63",
      "include_colab_link": true
    },
    "kernelspec": {
      "name": "python3",
      "display_name": "Python 3"
    },
    "language_info": {
      "name": "python"
    }
  },
  "cells": [
    {
      "cell_type": "markdown",
      "metadata": {
        "id": "view-in-github",
        "colab_type": "text"
      },
      "source": [
        "<a href=\"https://colab.research.google.com/github/FireHead90544/gogoanime-dl/blob/main/gogoanime_dl.ipynb\" target=\"_parent\"><img src=\"https://colab.research.google.com/assets/colab-badge.svg\" alt=\"Open In Colab\"/></a>"
      ]
    },
    {
      "cell_type": "markdown",
      "metadata": {
        "id": "GhdTyfKwBLkh"
      },
      "source": [
        "# <center><b>GogoAnime Downloader</b></center>\n",
        "### <center><i>A python script to download all the episodes of an anime from gogoanime, also archives them and moves to google drive for easy one-click download.</i></center>\n",
        "<p align='right'><i>~ Author:</i> <b><i>Rudransh Joshi</i></b></p>"
      ]
    },
    {
      "cell_type": "markdown",
      "metadata": {
        "id": "t3aUF_iuCSq6"
      },
      "source": [
        "# Installing Requirements\n",
        "*   gogoanimeapi\n"
      ]
    },
    {
      "cell_type": "code",
      "metadata": {
        "id": "SHlWdc90Ckje"
      },
      "source": [
        "pip install git+https://github.com/BaraniARR/gogoanimeapi.git"
      ],
      "execution_count": null,
      "outputs": []
    },
    {
      "cell_type": "markdown",
      "metadata": {
        "id": "RKfCDK7VFUpT"
      },
      "source": [
        "# The Downloader\n",
        "<i>Just execute the cell, and provide the inputs as asked. Please try to use servers which provides links ending with <b>.mp4</b>, like (HDP-mp4, 360P-mp4, 480P-mp4, 720P-mp4, 1080P-mp4, StreamTape, and others ending with .mp4), try every server, who knows whichever will work for you.</i>"
      ]
    },
    {
      "cell_type": "code",
      "metadata": {
        "id": "2z8VMIUrFYZq"
      },
      "source": [
        "from IPython.display import clear_output\n",
        "from gogoanimeapi import gogoanime as anime\n",
        "import os\n",
        "import threading\n",
        "import urllib.request\n",
        "\n",
        "# Function to show the list of all animes that matches the given name and give user the choice to select the anime they are looking for and get it's id\n",
        "def select_anime(anime_name):\n",
        "  results = anime.get_search_results(query=anime_name)\n",
        "  try:\n",
        "    for result in enumerate(results):\n",
        "      anime_details = anime.get_anime_details(animeid=result[1]['animeid'])\n",
        "      print(f\"\\n[{result[0]+1}] Anime Name: {anime_details['title']}\\nAnime ID: {result[1]['animeid']}\\nYear: {anime_details['year']}\\nType: {anime_details['type']}\\nStatus: {anime_details['status']}\\nGenre: {eval(anime_details['genre'])}\\nEpisodes: {anime_details['episodes']}\\nOther Names: {anime_details['other_names']}\\nPlot Summary: {anime_details['plot_summary']}\\n\")\n",
        "  except Exception:\n",
        "    clear_output()\n",
        "    print(f'ANIME NAME: {anime_name}')\n",
        "    print(f\"No anime found with that name, try entering the name properly.\")\n",
        "    return\n",
        "  \n",
        "  sno = int(input(\"\\n\\nSELECT ANIME: \")) - 1\n",
        "  print(\"\\n\")\n",
        "  if sno < 0 or sno > (len(results) - 1):\n",
        "    print(f\"That serial no. is not valid, try again with proper serial no.\")\n",
        "    return\n",
        "  return results[sno][\"animeid\"]\n",
        "  \n",
        "\n",
        "name = input(\"ANIME NAME: \").lower()\n",
        "anime_id = select_anime(name)\n",
        "\n",
        "def get_episode_download_urls(anime_id):\n",
        "  if not anime_id:\n",
        "    return\n",
        "  animee = anime.get_anime_details(animeid=anime_id)\n",
        "  ep_count = int(animee['episodes'])\n",
        "  servers = anime.get_episodes_link(animeid=anime_id, episode_num=1)\n",
        "  for server in enumerate(list(servers.keys())[1:]):\n",
        "    print(f\"[{server[0]+1}] {server[1]}\")\n",
        "\n",
        "  \n",
        "  server = int(input(\"\\n\\nSELECT SERVER: \")) - 1\n",
        "  if server < 0 or server > (len(list(servers.keys())[1:]) - 1):\n",
        "    print(f\"That serial no. is not valid, try again with proper serial no.\")\n",
        "    return\n",
        "  server_name = list(servers.keys())[1:][server]\n",
        "  ep_dl_links = []\n",
        "  for episode in range(1, ep_count+1):\n",
        "    servers = anime.get_episodes_link(animeid=anime_id, episode_num=episode)\n",
        "    ep_dl_links.append(servers.get(server_name))\n",
        "  \n",
        "  return ep_dl_links\n",
        "\n",
        "ep_dl_links = get_episode_download_urls(anime_id)\n",
        "def start_download(ep_dl_links):\n",
        "  if not ep_dl_links:\n",
        "    return\n",
        "  try:\n",
        "    os.mkdir(os.path.join(os.path.abspath(\".\"), anime_id))\n",
        "  except Exception:\n",
        "    pass\n",
        "  for link in enumerate(ep_dl_links):\n",
        "    try:\n",
        "      urllib.request.urlretrieve(link[1], f'{os.path.join(os.path.abspath(\".\"), anime_id)}/[{link[0]+1}] {anime_id}.mp4')\n",
        "      print(f\"Downloaded Episode #[{link[0]+1}] {anime_id}.mp4\")\n",
        "    except Exception as e:\n",
        "      print(f\"An Error occured while downloading episode #[{link[0]+1}] {anime_id}.mp4:\\t{e}\\nTrying to download from another server.\")\n",
        "      link = anime.get_episodes_link(anime_id, link[0]+1)\n",
        "      for i in list(link.values()):\n",
        "        if i.endswith(\".mp4\"):\n",
        "          try:\n",
        "            urllib.request.urlretrieve(i, f'{os.path.join(os.path.abspath(\".\"), anime_id)}/[{link[0]+1}] {anime_id}.mp4')\n",
        "            print(f\"Downloaded Episode #[{link[0]+1}] {anime_id}.mp4\")\n",
        "            break\n",
        "          except Exception:\n",
        "            continue\n",
        "        else:\n",
        "          print(f\"Unable to Downloaded Episode #[{link[0]+1}] {anime_id}.mp4\")\n",
        "  print(f\"Downloaded Anime: {anime_id} in {os.path.join(os.path.abspath('.'), anime_id)}\")\n",
        "\n",
        "download_thread = threading.Thread(target=start_download, args=[ep_dl_links])\n",
        "download_thread.start()\n",
        "download_thread.join()"
      ],
      "execution_count": null,
      "outputs": []
    },
    {
      "cell_type": "markdown",
      "metadata": {
        "id": "hX6yfJHu-gAk"
      },
      "source": [
        "# Zipping & Sending to Google Drive\n",
        "<i>Read the info before each cell, and execute the cell following that according to the info provided. After zipping you can go to the files tab of this google colab and right click and download .zip file (which you can extract in your device after downloading) of the downloaded anime directly without sending to google drive, if you want to. Else, just connect your google drive and send it there, and you can download it later from your google drive.</i>"
      ]
    },
    {
      "cell_type": "markdown",
      "metadata": {
        "id": "jLyozWimF2Fg"
      },
      "source": [
        "1. **Zipping the file**<br>\n",
        "Syntax is written in the comment, to get the name of folder you can visit the **files** tab, to get the path to folder right click on the folder and click **copy path**.\n",
        "\n",
        "![image.png](data:image/png;base64,iVBORw0KGgoAAAANSUhEUgAAAawAAAEBCAYAAAAkSpGcAAAgAElEQVR4Ae2dabRV1Zmu6/f9dce4P6U7dAfOAQ6HPlYSNEKq1JDCoAFDMFoaSRSwQgil3IAiQSHY0QgabKKIKRsa4SqiJWADQUCULk0lkKa8VQm5qUqqiqpKRm7NO54Zvn3nWay199r9Xnu/e4w15tpzzfb73vW9s1tz/olL+LW1tTldkoEwIAwIA8JAo2DgTxL4yk2YMEGXZCAMCAPCgDDQMBgQYQmMDQNGNZLUSBQGhIF8GBBhibBEWMKAMCAMZAIDIiwBNRNAzdfq0jO1yoWB1sCACEuEJcISBoQBYSATGBBhCaiZAKpa0K3Rgpaeped8GBBhibBEWMKAMCAMZAIDIiwBNRNAzdfq0jO1yoWB1sCACEuEJcISBoQBYSATGBBhCaiZAKpa0K3Rgpaeped8GBBhibBEWMKAMCAMZAIDIiwBNRNAzdfq0jO1yoWB1sCACEuEJcISBoQBYSATGBBhCaiZAKpa0K3Rgpaeped8GBBhibBEWMKAMCAMZAIDIiwBNRNAzdfq0jO1yoWB1sCACEuEJcISBoQBYSATGBBhCaiZAKpa0K3Rgpaeped8GBBhibBEWMKAMCAMZAIDIiwBNRNAzdfq0jO1yoWB1sCACEuEJcISBoQBYSATGBBhCaiZAKpa0K3RgpaeG0vPM2fOdHfeeWfRNoI4xK20PkVYIqyKg6rSIFV6jWXEpI/W0AeEc/bsWXfu3LmiSAuyIg5xK01aIiwRlghLGBAGhIELMGDEA/mkJa1S4hTTABJhCagXALUYAClsa7S2pefW1HMxBFRM2FLxJMISYYmwhAFhQBhIxEAaIkoTplSSCuOJsATURKCGQNF9a7awpXfpHQzkI6R8zyqNHxGWCEuEJQwIA8JAQQzEEVOcX6VJKkxPhFUEUBctWuT279/vdu3a5aZPn15QwaGgda+WqjAgDGQdA1GCsgUZaRdllFv/qhHW1KlTvXHHwHNPQTds2ODWr19f9FVuJfPFnzZtmnvrrbfcqVOnEi+eE27nzp0+zIkTJ9yqVat8nR544AHvZ2Hy5aVnMljCgDCQdQzEkRZ+tahX1QgLcjL25Z7K2P9i3WoKohjCuvvuu93777/vCc6+LxBhyQBVE59KW/hqNAw0JWHZR2fhx2MQVylXNRUWEhbkU2xeIiwZlGIxo/DCTFYxEEdW1gGpRS+raj2srChEhCXjkRWsqpzCaj0xECUr/sf5VbOMIqxgDqtQD2vx4sXu2LFjfkgQokMxST2sKVOmuG9/+9vuyJEjuXmvgwcPurVr17qJEyf26MktWLDA7dmzxzE3xlzaBx984Hbs2OGuu+66HuGqCQSlLWMoDAgDSRjIR0z5niWlV6q/CKsKhMUKwn379uWICtI6evSoO3nypPd7+eWX3eTJkz0ZLVmyxM+LGVER1ojr3XffdbfccotIq4iVnKW+CIonYy0MxGMgDSGlCVMJ+VaNsFgZePr0aX9leZUgPSp6Vgg7TQ/r4osvdtu3b/fktG3bNkdPyxQ1e/Zs9/bbb/tnDz/8sPffvHmzJ7HXXnstR2LM/+3du1e9LBFVDjuGIbnxRlVyqY5ciiGiYsKWqq+qEVazrBIslrDmzJnjhwGPHz/udu/e7ehNhZctoedbLpQGcdHzYrjw9ttvdxBeqcpUvOq8tJKr5NqKGCiFgEqJU4xsq0ZY9KrOnDnjr7CHleVVgml6WCtWrMgN6eX7toshQ+TC0OCWLVtycSA6nvG9Wtg7K0apCisDKwwIA+ViwFZ6swoQIkqbnpFWuEI8bdxC4apGWIUybpTnxawSLIaw6DEVs2iCea/77rvPvfTSS7mFGqShOSwZnkZ5V1SO1sMipFUMWRlGiENc+18pV4RV4UUXc+fOde+9957vMa1evfoChUFA8+bNy/lfc801buPGjY75LVMqqwhtVw0IzPzltp7BkM6lc2Hg/2NAhFVhwpo0aVKObJj/YgiUYT8uelCsFmQVIP4MCdpqQhZjMP8FOG+66aacvwjr/4NVL65kIQy0NgaqRlg2/hmOY2KkG3kvwUp9hxUua4/OY7HAgt5T3LL2aFi2gWLZu17S1n5JpX/pXxj4IwaqRliQk23ZwT0Ct//FutVUVqXnsKys4YfDkBS9qqQPhxkOZEUhCy4gLdxXXnnFzZ8/X2Slpe3CgDAgDJzHQNUIi+GuAwcO+KuRVwkawchVK1YYEAaEgcbGQNUIS4pvbMVLP9KPMCAMZA0DIiwNN2i4QRgQBoSBTGBAhCWgZgKoWWsJqrzqvQgDlceACEuEJcISBoQBYSATGBBhCaiZAKpaq5VvrUqmkmnWMCDCEmGJsIQBYUAYyAQGRFgCaiaAmrWWoMqr3oswUHkMiLBEWCIsYUAYEAYygQERloCaCaCqtVr51qpkKplmDQMiLBGWCEsYEAaEgUxgQIQloGYCqFlrCaq86r0IA5XHgAhLhCXCEgaEAWEgExgQYQmomQCqWquVb61KppJp1jAgwhJhibCEAWFAGMgEBkRYAmomgJq1lqDKq96LMFB5DIiwRFgiLGFAGBAGMoEBEZaAmgmgqrVa+daqZCqZZg0DIiwRlghLGBAGhIFMYECEJaBmAqhZawmqvOq9CAOVx4AIS4QlwhIGhAFhIBMYEGEJqJkAqlqrlW+tSqaSadYwIMISYYmwhAFhQBjIBAZEWAJqJoCatZagyqveizBQeQyIsERYIixhQBgQBjKBARGWgJoJoKq1WvnWqmQqmWYNAyKsKhDWzJkz3fr161Ndq1atEmFUQQdZexFVXpGHMFAYAyKsChvLO++80507d66oa+vWrSKtCutBL3/hl18ykoyyhgERVoUN5ZkzZ4oiKyM3kZaMR9aMh8orzNYaAyKsChOWEdCGDRsK9poOHDjQg9walbS2bdvmzp4926OsVk9zec5QaK0BXKn8WqGOlZKV0hFR1QsDIqwGIiyMf6OR1le/+tW8RGWEhZtV0mqFOtbLwChfkVslMSDCajDCajTSoqcYklKhe0gr7YITwk2dOrXuvbJWqGMljYbSEgnVCwMirAYkrEYirWKNeSFCiz6H4OpNWq1Qx3oZGOUrcqskBkRYDUpYjUJa1Tbm1LPeS/tLrSMLbJiHtOv48eOJvdF617GSRkNpiYTqhQERVgMTFsa8XsCwfENjbn6Vcq23RR6VSrOUdMI6WpnSuHzCEOZ32WWXJS5OqXcdw3LqXoSTVQyIsOpIWKyqmz179gUXK9bMYNYbWKExr3RZrI71NuZhHa1MhVx6VfSoojKhJxUXt951jJZT/0VaWcSACKuOhJUEmNCAJoWplX81y2KGvd7GPKyjlamQS2ODHlbcUF/ct3j1rmOt8KJ8RITVxIAIq06ExfBRkmJDA5oUplb+1SyLzf1Eh9ZqVTfLJ6xjIaLiOT1gi/vaa6+5qC7jlsmLsGTIDTNyS8eCCKsOhIXBYzgpaugMyKEBNb96uY1UlmrJIKxjIcJiVWOoN4Z0n3766RyBWRkh4zAtEVbpRspkKlcyFGHVmLDC+an9+/dfYOh4KUMDWu+XtFJlodfBd1d8GI3L/7Cu9TToYR1Dkom7jxsChJyiS/MZMgzj17N+9caQ8hfRVAoDIqwaElZIVmbM4na2CA1opRRdajrllgVDDjFbfUMXf5NJPQ16WMewfNF75qaicqR+hGNoMPrM6sbzetYvWi79F4FkFQMirBoRVmi8ooYwSlqhAa03sMopC0NnDKFRX3ohzFUxhIYb/WapngY9rGNUN+F/yh7VRzj0F30e1r+e9YuWWf9FWFnFQE0JixeYl3rJkiXeDecCsirAaLnNwIUGKiQrM+CEC+9D0goNaDT9Wv8vpyxmzKl/WG4Ii2HBsP6hvMKwtbgP62j6i7pxPSiwDPFSz6TLiLme9auFDJWHSLAWGKgJYUFMGOSoEeA//s1EXFbH0EBhoPHHeIUryLg3g0YYU3hoQM2vXm6pZbGhsrhhNCMykxVuKK9a1zWsY1im8D7Uj5UP3aXBbr3rZ+WVK1LJOgaqTlhMPoctaYwVLe7QaPGccFkXJuU3Ixc1wJATxo1WuYXhHj9bgGD1Dw2o+dXLLbUsRtJROVAPdE3dwyu6aKGW9Q3raLqJuqdPn+6BTxZfxJFYtNyWdpwcomH1X4QiDOTHQFUJC2PMi87LD0FFjRL/jbgIl6a12ugKNUOXZKCihBVXHzNypBX3vJZ+pZbFepJJcqhlHQrlFdbR9BfnGkGBU3BbKF3rZZJWFuRQqD56nt+YSj7Vl09VCcu2qWFYKImM8LedAeKWDGcNBGbokgxUlgmLeac0Fzq1ekbnr6L6hARIM9qYiYar5v+0hEWjinoxjE2Zuc93hasjk/BQzXop7eobUMm4tjKuKmHZ/Ex0yCuqZGuNEz76LGv/CxEWw2G0zrmShkFDA1rv+tvQntUrjUv5w4ZIEhkZqcXNc9Wy3qXUMY0cwjCF3oFa1ld51dbISt6Vk3dVCcte2CSDZYoMh07ML6uu1bmcFnUjERZ6oJcUzkNaHZNcwkJYRgRxc5QYcEuzEYx5sXVMqnucf9xOGFnFt8pdOeMrWRYvy5oQFsYrn3KaibDMCMcZrmL96t3zyKeztM8w1lZvetAMk1nPG/9yiD1tGRSueMMgmUlmjYiBqhKWGaZCLWieY7yaYUjQehVmpMtxSasRQVNsmdAv3zGFsmBItBAuis1H4WVkhYHmxkBVCcsWXRQiIiO2Zlh0wQvD3BQ9h3KupPmtLL+Qthgjy3VQ2ZvbIEq/ja3fqhIWBsqGyOKOYeC5tbzzrSQUiBobRNKP9CMMCAO1wEBVCYsK0FMw0sJlDoMlwbjmz1AR/5ulh1ULxSkPGQhhQBhoNQxUnbAQKIsqmLMI5zDsHv9w0UW4p16rKUP1lQESBoQBYSAZAzUhLFMAxMREO3M7LCjgvz0LFyuItJIVZvKSKxkJA8JAq2GgpoRVSLgiLb2AhTCi58KIMNC6GGgowgKIIq3WBaMMkXQvDAgD+TDQcIQVJS2278lXAT0TwIUBYUAYaA0MNCRhAT56WlwCYmsAUXqWnoUBYaAQBhqWsAoVXM8FbmFAGBAGWgsDIqwJraVwveDStzAgDGQVAyIsEZaGXYUBYUAYyAQGRFgCaiaAmtUWocqt3owwUDkMtDxhtbW1OV2SgTAgDAgDlcVANYi65QmrGkJVmpVrUUmWkqUwIAwYBkRYGhLUkKAwIAwIA5nAgAhLQM0EUK2FJVetbWGgdTEgwhJhibCEAWFAGMgEBkRYAmomgKpWdeu2qqV76d4wIMISYYmwhAFhQBjIBAZEWAJqJoBqLSy5am0LA62LARGWCEuEJQwIA8JAJjAgwhJQMwFUtapbt1Ut3Uv3hgERlghLhCUMCAPCQCYwIMISUDMBVGthyVVrWxhoXQyIsERYIixhQBgQBjKBARGWgJoJoKpV3bqtauleujcMiLBEWCIsYUAYEAYygQERloCaCaBaC0uuWtvCQOtiQIQlwhJhCQPCgDCQCQyIsGoA1Msuu8y99tprbv/+/bEXzwijlmPrthyle+leGCiMARFWDQgLQjp37lze6/jx4yKtGuhCRqGwUZCMJKNGxYAIqwZGshBZ2fPTp0/H9sDCntnWrVtFbDXQWaO+sCqXyKSVMSDCqoHxM0KqlEuPrZVBq7rLaAsDrYkBEVYdCevs2bNuw4YNeYcK40iOeHphW/OFld6l91bGgAirToQF6cycOdMTz5133lk0abUyaFV3GW1hoDUxIMKqA2GFZGUvXrGkZfHktuaLK71L762IARFWjQkrjqwMeMWQlsWRK8MlDAgDrYIBEVYNCSsfWRng0pKWhZcrYyUMCAOtggERVg0Ji9V969ev99fUqVN7LJyYPXt27hnfZMUttgj9WgWgqqeMsTAgDBgGRFg1JKyQcCAoUwJusasFw7i61wstDAgDrYABEVYTE9b8+fPd4cOH3bZt29zFF1/sCfLFF190R44ccQsWLOhBmK0AdtVRRl0YyDYGRFhNTliQ086dO92kSZM8QW3ZssW9//77btGiRSKsGuheBjLbBlL6ayz9ibBqYLTCoUC7X7VqlWNY0C62XLJnaVy9SI31Ikkf0ocwUH0MiLDqRFhpSClfGL0c1X85JGPJWBhoLAyIsGpAWGl2a89HTtFn2kuwsV4iGTXpQxioDQZEWDUgLDsP68CBA67cC7LS2Vm1eTlkhCRnYaCxMCDCqgFhCfSNBXrpQ/oQBrKJARGWCEurBYUBYUAYyAQGRFgCaiaAqhZxNlvE0pv0VkkMiLBEWCIsYUAYEAYygYGaEhaLBfItGCj0vJJMrbTU8hMGhAFhIFsYqBlhQUZs6soVR1qFngtY2QKW9CV9CQPCQKUxUBPCMjLie6JChJUvTKUrr/T0QgkDwoAwkB0MVJ2w0pCVAaaYsBZHbnbAJl1JV8KAMFAOBqpKWKUQUClxyhGA4uoFEgaEAWEgGxioGmGVQzzlxBXwsgE86Ul6EgaEgWIxUDXCCvfPi56um6aQxLE99DjPKU0chdELIAwIA8JA82KgaoRVTi+pnLgCa/OCVbqVboWB1sZA1QgLYJVCPKXEEYibA8QPPPCAO3XqlMOttk5rmVe166L0mwP/0mNhPVaVsFBAMQRUTNgsKZd6MUS6f//+2Es7sP8RqLUkkVrmlSWsqqyFjaZkVD8ZVZ2wUG4aIkoTJqtACefzbF4u6iZ9n5bVOpdS7lqSSKl5LV682B07dsxt3ry56r3AUmSoOPUzppJ99WVfE8JCkUZISYa50PMsgyFKTkn/T58+HdsDC3tmW7du9bLMsjySyl4qiSSll8+/1LwajbAmjh/vJo8b5z41ZoybNnq0+9yoUe767m43e+RIN7ery311xAi3aNgwd/f5a9mwYe4bnZ3uns5Ot4Kro8Nf3+zsdKs6Otz9HR3ugaFD3YMdHe6hjg63euhQt2boULdu6FD38JAhbv3QoW7DkCHukSFD3Le42tvdY+3t7vHz16NDhvhwDw0d6u47n/Y3hg1zdw0b5r4+fLi7fcQIX6Y5XV3uL7u73YxRo9zUsWPdpHHj1ADQfoYFMVAzwsJ4QEpcSYak0POkeJXw/853vpNYrnLTTyKoUv3psaUt0+zZs/1w5IkTJ9zJkyfdu+++69asWeMuvvjiXBrXXHON27Jli3v//ff9HBLupk2b3OTJk32YadOmubfeesu9/fbbbuPGje7IkSO5cE8++aS78sorfXiLz/N169bl8oAcyP+RRx7JlYX/1OPGG2/MlSOORCZOnOjWr1/fI8+wbGnkcNVVV7nt27f7MpAv9aCHFJ0vyycHynn48GEfh3hc9LQgMMpAOdeuXevli5zj6ke4S8eNc1PGjPGG+ububvdXXV1u0fDh3qBDIhAG5AAZPD14sHt+8GC3feBAt3vAALevrc0d7NvXHe/b1/24d2/34UUXuX9oousnvXq5g/36uZcHDPAEuLSz031p5Ej3Z2PH5jCSRt8KU/2eTr1kXFPCqlcl0+T77LPPumqRVqnElBTv7NmzqV7g66+/3h08eNAb2scee8w9/PDDbs+ePZ64nnjiCZ/G9OnT3b59+zxZPf30097ovvzyy97gQgzIzggLI3zo0CFHWhAXaeMHQXGPn/mHxtyIiLCkjWHfsWOHj0vvcebMmT4fC4dLvpDqM88847fzIjzxXnzxRR8PAgpJN0nHkK7VJ5p3SFiF5AAhIc9Vq1Z5onrhuefc3Jkz3ayPf9xdP3q02/X1r7u/W7vWHVqwwL1+7bXu4IwZ7sz117u/+9Sn3IH2dne0Tx+HQW4mgqllXV4ZMMAtHTZMPbEW74WJsM4DAMKCIKpBWknEU45/koEO/e+77z5PTqtXr/YEwLNZs2a5AwcOeJLiW7d77rnHEw5hLe6UKVPc3r17/fDktddemyMsehi33nprLtxtt93mjh496gkx9F+2bJknGQiQNI2IkHFIMpAmJAaRhuGMsGz4LYxH/Oeff94T7IIFC3JlsbJH3eXLl/s8iBPm/eijj/boYSGHo3v3usfuuMMPp/31iBFuzfjx7sQtt7gf3HCDe2XkSPdq//7u5LBh7sPOThFPnXp2P+/Vyw9T/sWYMQV1H8WC/me/5yXCihBWNUirHGJKipvm5Vu6dOkfewMvvOAgoTRxLMyuXbs8ETEUZj0shgW5tzA2TPbqq6/2IAPzt4UJRlhGRBaf4Up6Z/R88IuGIz7DjFFiWrFihSehaHqWbuhCdsePHnXf/MpX3HWjRvl5nSXDhrnXrr7a/eSLX3RHPvYxPwx1psF7P5TvVJ8+7kjfvu6dtjb3ev/+bseAAe6FQYPcM4MHu8fPzy8x98S8FHNW/3PYMLdg+HA3r6vLD619ceRIxzDkjd3dfv7ohu5uP991XXe3l82sUaPczFGj/DwYc0szRo92nz1/XTN6tJ8j+8yYMe6qMWP8vBOkwfDmp8aOdVeMHeuuHDvW+zOXRtzPn59PI0+G9pi3YgiUMi0ePtzd29npmOti+PNvBg1yr/Xv73uiaXtuzLV9tMV7HCHWW+FehBVDWJUmrSTSKcc/DTgZDqPHSC+Gi6G/DRs2OOZ0wvgQB6TxwQcf9JijoUeVhrAgtzC9tIRlRMgwJfNgUcIiXZsvinMJ/4lx49zVo0d7Q4whXN7Z6RcGYAD/tn9/99Ourrr3hs4MHuy+26+fn4eCYFigwGIG5qxYEHHbeUJhEQJGHpKADP587Fg/53Vxixnlj0yY4CBI5AIpvdG/f6IOmdODBEP86T77PakkHYqwEgirkqRVDjElxU1SaJz/DTfc4OeWICyIi17LypUr/Us+d+5c35NimJD5GciGiwURjUBYlJU5s3Vr1rjvLFzods+c6Q5cfrn73ujR7kzfvomGLG0rvZhw9HJ+MGSI+9lll7kTkyf7ng0r5tZ2d7sjf/3X7gerV7udd9zhll97rVs4Y4Z78sEH3akTJ2ryIXSc3pvJ79pRo/xqxCR90cuk99dMdVZdLiReEVYCYVVyLiuJdMrxTwPmGTNm+IUCLBiw8Mw7QUSQF3NYzDOFCyQsXDFDgqX2sPINCTLU89rKle6HS5a4tyZMcD+t4pDdB337ulMf+5g78/nPu1cuv9wv+14wYoS7qbvb7fvWt9zRV15xt3zhC16GNq9mw53Ia9GiRb53GvrhH+0xmmzlXmiI0sqEJfAsqU8iLnrYadNSuNL1UC/ZibBiCKuSZIViyyGmpLhpAPPSSy/53tTChQtzL/GkSZPc66+/7pepMySHkY0SFivmWPpd6R7WC4895q4eO9Z9obvbz2f8ry9/2f1o6VK397Ofdd8ePNgduuQS9/M/+zP3w44O9/MKTOqf6d3bnRw+3P3kqqvckWnT/LdFS4YP9/NYW5ctc9/fu9c9eH6xSRo5IPM4wjI/5stMLyzw4H+4EtGeyS3fUDIvxpxXHHHt7d/fTR89OqcLybt8eTeKDEVYEcKqNFmh6CTSKcc/DYBo+TOkZkvRWRZuS7xZNUcatjADcnrqqae8keUeQ5uGsN7bu9fteeIJP4nPXAIfiG6eONH96Kab3LFPftIvDPgxLeI+fWKNS5zBSeP398OHu0NdXe75QYP8h6x8BMvKvptHjvRzQPYhatKydj5g53spW7iRRg7Ia86cOX6hyDvvvONXN958880Oguc/adJIYGn/m2++6dMXYVXXWLK45MOE3vcDHR0irfP2LY29yEIYEVZAWNUgK0BQDjElxU0Lrvnz5/tvr5i7wniyKo+Pfe2jYNJh6TffUX3v0CF3fPdut23lSrf73nvd9x95xG2eMcOt+dM/dSfnzXPfu+kmt33kSLdrwAB3qF8/99MKk1A+ovrZhAnuJ3PmuB+sXete37TJMZyYVgZxHw6z+ISepRFWKAfkBNHzHRrEHvZA6TkhP/yQKfN+xLV5P/y4mAN86KGHfLiw55W2zAqXnugYJtzU3h7bIAKrzH9Jnunl2ciyEmGdJ6xqkRXKTyKdcvzTgOqj48f75cXzu7rcNzs63PohQ/wyaHZO4ENMVtGxRPpknz4VGYLLRzhpn/2od2+/zJydHdjmh62Fkr65saE4CCbush5iGlkpTPYNGltRHejXL5a47hw2TKTVBL0tEVYNlFgOMSXFNQPLkmeWP7N/HPu0sf8bw2Qso05LEtUM970+fdypUaPczz79abd/8mQ/YQ558i3U/BEjHN8G8c0P3/BAsFavNC47ZNCLYagz7uJj6GK/P0uTr8I0Lrl9fPx439CJw/R3Bg3y34xJf42rv0K6EWHVgLAYHkointD/3372M/fbN990v9m0yf3T/fe7Xy9b5n69aJH7P7fd5n71xS+6s9Onu7NTprgz48a54336+P3k4l7MavuxIOK9vn3d7v793XM2h9TR4ffEmzNypP+WiA9KjYC0Wi67BqKQAWnU5/TMfxAzZE0DioZSo5Zb5cr/roiwakBYbOoLafGtk12Hn3/eHV+50n1/3jx35oor3N/XeLsf9rXjhX6rrc293dbmhwjZaJUdE+yjVnZKYCEFvSB2QJg6ZkxJe7mJsPK/hDJS1ZEPO9jToIprwK0dOlSkVQPbV2lsF01Y7JxMC4Wv9Q+cn//gOxZa3If79fPzD4wjMzfCPASToQ8OHeqPFrh15Ei/3NRWcFW6Mo2cHtsCsXnns4MH+95R3EtUSb9TvXt7EmIeiPF7SIctdDiOotV2TmhkXKhs1SGrUK68d3HvFvO4bCMVhtV99fVRjoyLIizO0olTfCl+3+/Tx28m+kR7u99TjG1YmMu4pMh5jHIqX624bBfE8mrOGNoxcGDFdulmKA650TigV8SQHAso2IuNPeRY1s1cFnNa1aqb0m3sF1r6idcP54TRgI7aKr7V0xBhvMwaEUupCYuD26LKrtZ/DPL2QYP8nnBMzrNZZ6P3CljJxqajrLwrRS70Vtn/jr3TFo4Y4b4Q7Cn3yWts7ZMAACAASURBVHHjHJPJjQgglSk7L7t0NcGfNRb3frIJr+TT+FhORVgM/8Up+Ue9erk329r88B+r0tiIkt2kj54/ZK4SuxVYvmzNw8ahHOrWSN9VsAM1RGPlTOOyYIKhQT56ZKjwYpGRjEUG5xOyauDZJDnONjEawk70Wa1XK5S7IGFxBEHUCGOg6fWkERDLlTHKTN4zpEhPDeJhjivpC/VofnH/ORCP3Q3qMR/Gh4orOzs9OceVLerHnB7HiLPsnF2o08hNYRq/tScdZVdHbN3E+WbRd5XvAJmekG4bU7cFCWvrwIE9lMrx3YwHQz4b29v9HnCsuOFsG0gp6SPPOABwjAAtGs7KYUsfdr6mlQMZRYGU9J/VbizqgBjj8qik33Xd3YmrjsLyscfZmqFD3bwRI/w5QZUsg9JqzBdJesmmXpKmOhial04bT6d5CYvhrtAQsxrweIojHZiDYjkpRpuD2iCkz44Z4403q9TSAIGFCxAjE6Lfam/3KxDDssTdAz7me9KkX2wY5qfi8jQ/SPa+jg4dcaChrargr1i8Knx6Y8vIh73Hocs8ejENcMk8vcxLlVVewuJU01CBlbqnV8T3PwwNQgR8bJqmh8RBfXwbtHnw4MRyMT9ET69UgUTjsXLx5ZjVRSYL6kBPKhpP/6sPXslYMq4UBpgXj1swxYfGbPlUqXyUTnmYTSQslGRGuVYuxj/tsQD0vlgSn1Q2emX00soBCAs84tKnp8n2QpqgLQ985ehGcSX7SmOAlch8IhL3ztOwrnR+Sq94DCcSFh/VxSkOP75noKfzmdGj/TAfJMNhd8xjQTq0SpLipvEvBhx8+MemrnHpMjTJsGaxwCDNLZG5O0v/yfZ2N7lMIiy2PApfPLAlM8msVAwsSvjeFDIrNU3FqwweYwnr98eOxRIARpthQna7KKQAwsxiDqqryxPZw0OG+AUaEBqERy/FSCDOZciQIcBC+dhzViLyIW1cWsxt2b52Fj7JZXgvbsnrD3v3diyHTYon/8oAUnKUHBsBA58fNcrti7En2K9yR24aoX5ZLUMsYf3bE0/EGn7I4IoK9i7YKoj5K3aE4JuuKNmwcKNYwa5KWBzBd2Is/siXHqQXR1bMmVHWfHH1TIZWGGguDHx0wgT3dMx8+d62Nn2eUqfFVbGE9Z+vv34BeUAmfEtUrZfyirFj/f6EIWnxvVcp+f1ld3ds64i0WbmYlCbbHIX5/7xXL8fwQFL4ZvBPuzHt3Xff7Q95vP/++5taHtXSaRo5V1LGHDTJGW9vvfVWUYddVqv+WU6XXTBCu8A9e3WyP2eW65XFsscSlnPOHxURHWLjI2Kr5C++8t+cXeZXCZcNcvmgjzm0z5T51TlnQ0WBxn+IiZ2cw/JGP5BmCPCzRQxJhmlF72239v3797u4i53cCRONV4v/aQwp5Vi5cqU/Ap5zp2pRrmbLI42cKyljCGv79u3+hOlbbrlFOiuzR8B3onG2hGNMmg2rjVyfRMLCWIcKYu4qrIiRFW7o32j3bELLrhphXbhnDo1nVt4HIuS2qILzVWnOwzp+/HhdSCuNITUZVdNtlHJUq47NXr9qya2R0mUHjA8vuugCW6Jl77UbCk4kLJZth0aeJd4heLJCWJSZseh1CSsJ7ejspyJj1RxAGNa3nPvwkMZ896dPn47tgYW9sq1bt1aU2BrFkDZKOcrRc764zV6/fHVvpmfsdsPq49A2cl9ofryZZFDPuiQSVvSI9agBzxJhmYDzLVc9eemlORDSimLbKItXrpuPpEp5Ro8tbZlmz57tD488ceKEO3nypHv33XfdmjVrHENGpGGGdP369W7btm1+2I9w77zzjps/f34uHwuHa3lfddVVftiJtLnefvttt2HDBnfs2DGfroWjDC+//LJP+9SpU36Yat26db4Mixcv9uHxt+vw4cPuxhtv9PmkLX9YLvLdvHmzT5f0rRyh++STT7oPPvjALVq0KPd87ty57r333nMvvvhizo84L730ki/zzTff7Mu8fPlyL5+w3qGswnzsPk5+S5Ysce+//76XzZQpU3K6sLpYnMcffzynQ/J888033a233ur1g8ytHODC5Ea+u3btcqEsrSzmTps2zc9xMc/F3OTBgwc9RtDfpk2b3OTJk3vIgTk2cGH5kfeCBQt6hLG0zbU6WJ3MP6qfiRMnOjB45MgRjwNGHMBMWB/iIuc9e/b4MoBTynzvvffm8GzpV9PlINOD/frl7AWExWIt5s6rma/SnuBiCet3Bw/2UAb7CUaFlUXCog7MVbGrfLSF9PcBADmIMlrfcv6XQkr54pw9ezZV+a6//nr/QmO0HnvsMffwww/7l50X/YknnvBpmEE5evSoe+ONN3yY5557zht7DBlGjbpbODM8GDMMCsYLl7mtHTt25AjPwjF/AkkeOnSoRxmI9+CDD3qjeMMNN7hHH33UGypcyo0BK6b8lp/pKWoQzd9cI0oI1vwoD7IJ63311Vd7In799dfdpEmTPNljTE1WyBX5YjghV0sr6kblZ3LZt2+fmz59eqyMLU5UxvxHX5AdMjfZWzjKSf5pCQuCgqiffvpp3+CgTKS1evXqXH2QDX709pHZxo0bfZ0pA8Qbra/9tzoU0g94tPJTHwiTciFXcEB6NC7Iz7BEOaysNMIsz1q4TJlEP835ce/efqPvWuTfqnnEEtZvly7tYdA5GDAqoKwSFvXgG7Hn8xwJ8kZkvi5a92L/5yOfUp+lKcN9993nDXBoeGbNmuUOHDjgX/SpU6fmiAjSCVvU9DLCHkjU8CxdutQblOeff75H6xYjgtE3A2WGLezJQFAYIiMB6hJNH79iym/5mVwKEdZ1113ny0C9iUOPE+NPnTGK1jOjB8F/ejmf/vSn3auvvup7O0bkxF21apU3tiH5WTnMDetnZAWRhwsiwjDEs//PPvtsTsaUc8uWLZ7cQ39ICnlCnsiX+GkJK0o61tM02UCo9KzoURm5kr7VY+/evY4eotU1dK0OuKF/qB9wCPGQPg0EC0fjBSyBA+q3e/duXz96lxaG8hAXPFm97Vm13ZmjRl2wScLJPn38hgrVzrtV07+QsP7wB/eLYL6Hrm7chrVZJixTNru8R3ta/P9xhbv2pZJSvnhWh3yukcoLL7xQtEGB5GjhmuGOGp7Q4IRlsJ5L1ECFYcKhKDP80fQJX075k8pn5cDwv/LKK77HcO211zojMHoZGD8IirD0LCAxk4PFD12rM3mG/uG91Y9hLwwsZDVv3rwe4S2MyS7639JLqhv+4RBgWsIKe5TkYb1K4vN/2bJlvudsMrFy4NKwgfCShgbT1CEko7BhE+ZjJMrwbOjPPQ0FemcrVqy44Fk0bKX/f6G7252JfENayvejlS5Xs6Z3AWH9x44dPYw4hzfGVb4ZCIt6sXtFHGnt+sY3YusdJ4tCfvmIp9RnhfLkOT0mvsXhZebCUPJyM/dk8ZMMCv75CCvJGJrxJr7lgTFjCI2hNJunwg0NZVw5yil/aNQtbcvbjDqysF4kRhn/r33ta57IrPeHQWYYDFKjPgxVMmQFqSFTSxOXPI2Mo/5WBtKi1wBZhj1a0rYwuHH/TZ5h3cwPNx9hWdpWLuq6cOHC3ByWNRxIx+pghGVxrVxhnvghB3ra4MXSN+wkxY3WAYwgU+IzjwUx4WdzrYYr4oX5c2/P4gg1GrYa//keK2pDZo0adUE5q5F3q6V5AWH985e/3EP44dLvUDjNQljUiW1Y/ndk/8NfjBnjtlfom6NSSSlfvFAXhe4ZKmFoDsLCuNAi5psf4iUZFPzN6MSFS0tYEAHpMFFOj4lJdHoWDDEVIiyrVynlDw0iiyUgGbsYYmIIC4OILCAuDK4NbdGrYk7n9ttv9zKzVj3Gk3AQL+5XvvIVXx+GBKkjedJbYFGG5YVLPiZnelbMe5EG+Vod42RscXDDcGHdov5GxviHOoqTwU033VQ2YdETB1MM3z300EO5enM/c+bMXL3T1AECv+uuu3KLXCB2hgEhUCOlRiQsZB39TstWH4f60X35C9l6ENb//ad/cv8QGO58iw+aibAA0s8iy9ppMXEQ48dTnt+VD4z5iKfUZ/nys2czZszILWAwv9tuu833JCCvcA4ralD4n4+wGDoLn1v6ZlgsPeZBaDFjMC2MteALEVY55U8y6lYGXCsHq+soixnDOXPmeBk988wznrggMMJDnBACvSNr+eNvdbb4YR52jzzoPWDgictHvZBlOARmYUx20f+WVlLd8E8iLIsbulb/UA88N3/rYVV7SBCiQrbka+WjJ8vogM1hNeqQIOVlSXu0h6VdMMonJ8NC6PYgrN8dONBD8GxJEgYO75uNsH4azNuF4Htm8OBEGYTyyHdfKinli5cvP3tGzwCjyNCP+dnkvBmpJKOIf0hI0XA2v0RPIzTe9BowMoQnT4wehBWuoGPSHMNqZSBcNH380pQ/jiwoDwsowvJb/aMuQ370dgiLYea5yYhyU06MJf70DvnPwouwzuvWrfO9jDSEZXJBHgyB0XCwhQxRGUT/W9lrTVjlLLpIox/r6aKzUK5GlMghnOdqlEUXM0aPdtiH0F5wz8GPpiu5lSWuHoR17sknewg/37YjrUJYAHB1HuJOA8h8xFPqszT5RpcBMzxFj8fmHEgjySjiHxr8aDhaxZYWLmljcDD+IWGxlJ7/rExkWJIVbpAovY2QsIwAmTuy4aQ05TdjSllZCg1h2tBnWP4keTFRjzzCeSrCMh9CGRnKvPLKK3NExhAV4SEthsHonfGfsMUQFnnYUnFb7ReVcfS/1aHWhBWWtdhl7Wn0Axnt3LnTy9GwxLApy9dpNNDjpQxRPIS6rtWydo5UWjZsWOxhj9gKTh7XRtmVJSnDPW4PwvrnhQt7EBbH2oeBw/tmJqzo9xUAcUkZm+CWSkr54oW6yHcffmiJUcUA8NGsTfgnGUX8Q4MfFy7Nh8O0mOmB8N2Q5Q+JYfjDnhflobeD8YfQ7rjjDo+9QuWn7oRhTgxiJD4kAuGE5U+SEUOVlMPmqSyctfqjJBRXZ0iPNKI9L0sLN05+oaFmXi0aJvrf0qsHYZF3KR8OEy+NftA/uESO4AQ90lggrtXb0qr1h8N8ELx26NDYLd6wDXax2QInF4fl1X1lyasHYf3q8stzwj/Tu3dewTczYe3t3989GhkiZOf2Us/ByUc8pT5r1BfBvp3C2DZqGVWuyhqRZpTnzd3djnP04hqvRlDmYivpdTWjHBqtTjnC+q9z53JkhSLYLT1fYZuNsMJTkve1tfm6R08dLrWXVSop5YuXTze1eEaLmEnx8MNXmzuih0QPpRblUB4in0phgBXRG4YMcceDhWdGSnEuB9EuFVHV9D3PEdbvDh/uQVicEJwPCM1GWIAvBCUfS3OgY+hnRJZPLnHPGKLKRz7FPiO9uHxq6ceSZYbhWP791FNP+Tksm9NiPoLhrlqWR3mJuErBACv8vjVkiDuVkqR2DBzoe1PXVOjooVLK3MpxcoR1btOmHsZ5Ycx2TKGgmo2w1keGACEr6ktPMySt2cGRJKE88t3beVgsPCj3gqzqdXZWtI7XXHNNj0UUzD+E82PR8PovUqk3BiaPG+fmjxjhnmxvd99PSVLPDh7sWIB2WQU+cal3/bOef46wfnPHHT0M8/QCLYg0hHXb5UPdg1e3xV6X/WljHTl/e2THCztp+GsjRvSQSyWWuWcdNCq/iCdLGJgxapT7xrBhbmek8Rk2RMN7tqPjPYfYLh03TiMFFTy5olzc5AgrXHDxjzG7s0czKkRYG2f0yZ1IHIa1++/O/h+ukUiLjSxD0LLowurMhpbhs7/Is3rS4siVURcG6oMBhvPnjBzpGDVh84Pw3U26/2mvXm5Te7v7q66u2L1Tpcv66DIqd09Y//Uv/9JDqb/+3Odyxjoawf4b8eCaX+iGz5PuIa2kHpj533ZFR2z6YV6VuOeQxxDMrA6ydKOnEXO4pT2T2xhAlh5aVw8M1V3f3e2WDB/uXhg0KPZU4PDdtvsf9u7tvj14sJvX1eUPeRWGGh9DnrB+f+xYD2P9L8uXFzTIIQnFKTp8Xu79dz5/UcHyxJWhWL+/iRw5QmuLNK4aM6aHfEIyKzYPhW/8l0I6alwd8VEuCyXu6ez0w3bRgxSNjJJcFk492NHhbqzwiQzCTG0w4wkrukP7uZgdkaMKCUko+oz/9vyha9pcOZelE5dHpf0YRgiBzrJ2y+M7ETL7lIYFc7IxGcmtzUvbKnJmJd78ri7HMUAcIhsdmg/f1aT7D3v18r2uxcOH+4Znq8iuWevpCetf167tYah/9847BY2REQlunHDsedyzYvwqlU7aPKMtNtvt476Ojh4y0nHYMs5xmPrIhAmO6+LoNX68u3j8eD/0xPDzBVfCM+L4K0iP9OPybmQ/5MHBqVePHu2H7+Z0dblFw4e75Z2dbs3Qoe7b7e2elP62f3/3Xt++7ieRM6aSCCnO/1C/fv6jXxqgH9XKvsxhJR+OPWH9Zv78Hsb4Dx9+WLCSRiTNRlj3dnb2kIWtCuTU5fDluL3Asv98Qm+lZ0yAf3LcODdlzBhHi5nFLZA9wzq3dXU5Pp/gg2wM1/0dHW7dkCHu8SFD/HAPrWo+K9jb1uYwQu+0tfnvZfhm5lTv3v7ig28ulihz/eD8xfwE14/OXxxfzvWjXr38Zf/ZpcBfvXr5g/gwlFxMwnOxw4m/LrrIsXrMLlru/rrootRzJiF+KnX/4fn8KYuVLecG9aBOHDTor/N1jsrDZGWyQ5YmV5Ozlzvy79PH93jo9XDxsa2/+vb1u0MwbG5X2m+cSpEJZdwxYIAnPVb0fkYjHwVtd5btjyesX11xRc4Yc9owv0KValbCYoycFz58eTCaUSJ7IM+GuBjlN9vaci+svbit4h7v29eTA8Y0lKPuJY9yMEDP6/nBg903Ozvd3K4uN1XkVNBOF7LjWXvuCevsxz6WMyy//MQnWpqwUODdw4bl5JH0gu0cODBxuIGv4ZPiyV9GWxhIxgC9voN9+7rd/fv7YULeRfb1Yzgxa8ZV5a380PUfCWvixJyB/eWll7Y8YQE0xtXTGBY2yn2aVl9Hhx/euqG720X3IEyTjsLEGzGG4xiGOtK3r3urrc2xyoshQq59/fv7Cx1wvXH+Yh4kvF7v399xcSAnF8aQ61XcAQP8tWvAAMdFbzruennAAMfFx6dcDEP5a+BARwMlem0fOND5a9Agfz7StoEDHRfDnFxghOvF8xfLsbk3fwtHHM5X8ldMPj7f82WxslHOuDpYHakzdff1Py8L5GJyCmVnMkW+OXmb/Nva/EgCowno5u3zF0O3dh04/wxZMbzOt1H0kFiCzoIKyIgPe68cO7Yih6WKJCpPEo0kUxFWnglstmNhGK8UMmGuwF7aVnMxmBg/jBSG+Jn2dvdYe7ufn+KbNoZXOVKcSXdkzOQ4y4w/P2qUn5RnBeakceP0bUwebDaSEVFZmpskGkm/FxLWJZeohxUxFIyXY3CZhC+FvCzOKn1wrGGdCLYayRioLCKeRseAJ6xfXnJJzhBzz69QwZt10UW+em9sb8/JCRJieIohKyOkQi5DMvnSr8ezpEMCo2Xh8D6OdL///vsrXoekAwmjZWi1/9OmTfOnMocnM1dSBtVOv5JlbcS0brzxRnf48GG3a9euir8TjVjfRiiTCKuIFi9DWyEp2UTwp8eM8UNaLHVnyIuxesb+WSYchj+xeLE/ip1jxsOrnjuwpyWslStXuuPHj/tjRCoNXBFWfMu+2oRS7fQrjZNGS0+EFY/baurpAsI6O3FiRXtYtidgqa715KophLRpMx8TEhDfGBWKC6m988gj7l9Pnsx7JhZkUI9jQ9ISVqF6lvNchBX/4lebUKqdfjmYyEJcEVY8bqupuz8S1qWX5gxxpQir0G7tRkRpXNKqphDSps0iAiMsvjFKGy/tAY2nT5/u0fMKe2F2v3Xr1ooSmwir9i9dWtxUm1CqnX7aemY1nAir9u+OJ6xfz5qVM8QY5P/6938vaIxDokkCHOdhlbOPIHFJIyn9Svpz3Huh9Fj5ZoTFcF+h8PY8LWGlDVfMicOzZ892hD9x4oQ7efKke/fdd92aNWscx9lTPiOs9evXu23btvlhP8JxmvD8+fNzdbRwuMXEI+yCBQvc22+/7ctAOUh70aJFubSth8X8mJWVcNxjFEyOuMylEZ/nXKRL+hYmyYgsXrzYHTt2zJGXhQ3dBx980Mvn8ccf7/F8xYoVPh8OpozKwOJb+ckDv+h/C8dcB3MeVqeJEyc65M7Bl6dOnfKy59Rmex4SCrJhDhHdUI9Nmza5yZMn58oaPUzz/fffvyCMlcPcMH3u8SdNykD8pUuX5tJPK/dXX33VrVu3Lleno0eP+v+GN8sDeYb13r59u6MOVraoWw/9TJkyxT3zzDNeFugHmbz44ovuqquu8uU0rKWpcyn6QQbIDXkiR8qAzDZu3OhxH86dlZo+efCe79mzx+McfIGze++9N2cjDCe8a4btas2rRvUe/e8J67fLluUMMQb59ydOJALHEkhDWBY2C+6zzz7rCpEWy9ONsFjunrZeaYkobbizZ8+myvv666/34MNIPvbYY+7hhx/2wASUTzzxhE/DjDAvxBtvvOHDPPfcc94ohqC0cFHCKhRvyZIl/kXnpOUNGzb4i3tefp4hQ14CyAc/jOXatWvdjh07vB//J02a5MNhtAhHb5O0eHF5ucK0zIiELzN5FCKsG264wafFi3vllVfm5IuBIn1IMSoD07+9xMUSFjqgPlZnSAgyok7ozgwFfu+99557+umnfb337dvn461evdqXc/r06Q4/ykkY5EeapE2aVs6oa+mbnjGOGGiGp2nUWPhi5G7lB2+mH/xMNuhy586dPepteKMO1MXyDd1a6wdZQKLIEAwgU1z+855AZoa1QnUuVT/UHz2Qp2H+qaee8qSFn2G8nPRpOIKbQ4cOeRvBe2X4MgwYTsjzgw8+8A1JcBK+J6GuqnnvCevcM8/kDDEG+d9feikWNGFBmpGwIIx8pMXWMEZYbJIbyiPffVoiKiZcvvzs2X333edb5GbY8J81a5aDMADl1KlTc0YYAxe22Hk5Aaf1hKLG2v7ni4dx2r17t38ZvvSlL+XkZcbnlVde8a04DD4kyktgLXHivv76675HQnheSnpWtPJCo3bLLbf4XuPevXt7GBF7mU0WhQiLfCFJiGHu3Lm+rJankZjVGdfSxS2FsJA9OqA+V199dS69Rx991MsC3ZmhCAmZ/Cgf5UT2/L/nnnu8ESOOlQuDikwwdNdee23O357jWvoQFi105I9RCvVgMkgrd3rw6MTyWbZsmSdAiBQ/em0YeBqIpmv8zTDT87K4oVtr/YA5Gnr0nqycuFu2bMm9F0ZYhepcqn5M9uhw5syZObnMmzfP698wXmr69n5Sz1tvvTWXPvmCTRpOyMFwEsVhqJ9a3XvCYnd2M8S4vz3f8s1XiGYlrHykxQagJie+/M8nn/BZMUSUNmyYftK9GYcXXnjBG/O4cElGGJILW8bRcNH/lnYYzwzrSzENoDvvvNMtX77c956iBt/SwqjZEJoZvuiQHWHDXpAZEXuZLa1ChEU4G/6jlcl/i2NGNKnO0fJH/1sZKJPVJzQW1iiwcOaaobAekPlDcBBItI723NwwP/ML3TB96kzPCpkzVGnhypU7Q9IMYyET0gx1ZXngQqoYZmschM/svpb6MbKgkUQdrAyhm4S1aJ3DOOF9If0Y/tBJGM/0Vq7+872f4IHGCzK3/KI4DMtUq3tPWP/1+9+7fwhWwLEBLscB5CtEMxNWHGlNGz06R1aQlu3ink9G9iwtCRUTztLO59JjoscI8LhoNQFEG4MnbpIRxr8Uwgrj2QtnxiqprEkGHn8z8EnltDrYy5VkRMKy2D1zAlxWz+uuu863KunZQSiQI63KhQsX+nchqQzR8kf/W72jBophRlqxNjcBseNnLfokQ2H+ocHCSNLjolds9cI1+RE29Oe/pUNvjaFd5EBDwsprsiUedQ/97VkhuZs+kAlxojII0+QZ8qC3RVmsvPXSD/M4yIXeP72o559/3oUjBVY3yh3Ww/ytzjwrRT9JeDO9hfkWSt/SMpmCC6YIkG1YTquHvSO8A5ZfwxAW69h/s2hRD4M8r8DxGc1OWFHSWhrZEJdNOU25hdxiiCht2EJ5hs/p1jOfAGFhYDDCfFdFGANy1CDx3wxFXLg08Qz0cS9EWD6eh3nZM/zN4CblR1h6dYUMZ1gWhlceeughPy/B3AT3NuRCD4AeAcRBa9+GGuNkEJYzLH9SfeKMNY2Ku+66y0FW5ItxZBgVI5FkKMzfDBYtZeTEUO+qVav83ApGk0UrJj+IiLraxX9LhzwxxtQ3OvxUrtyjxjtOBsgRkmb4DcK6/fbbG0Y/zNMgU8rNewPOwAgNGqub6cHwYP6G+1L1kyR705vlmyb9m2++Oad7MMDwMb2nzBLWf+7Z04OwCvUgmp2wonNZbGRqw4G4nx09uuEJa8aMGX7yPhziue2227wRg7zCOSxeDnvhcPkfGuHoyxP9b3HDeDY0wgtuz82lbMynYaiSDHxIWOUOTYWEZWWIc8mHerMQgJ6HDQcSNqnO0fJH/1s+obGGqGx+wJ6jJ3AHgYRzWNGWbdRgMT8U6srSC/Mzv9C1dGwe7Wtf+5rvUbAoAoNM2HLlHjXe5QwJWnlqoR+IirKHCwuYF0SmNrdrdTPiMNmaPzjAr1T9MFRMXpaOpW96s3xLTT+zQ4L+S2Hn3C/Hju1hlPOdqtvMhBUlKzZiDcmK1YIGnjRu2l5TMeHS5EurPRzSIg6GiCEvM4JJRjgkHuJFw0X/W3nCeLzsrKiyyVsLQ2+Gljw9CcqTZODxtx6CzSkUmvy3+R2rn+VJK5nWcfTlt+fmWj7WE7XhQJ7HkR6Ey2KNkDDo8UE6rK6zdG0RnnIpjgAAB6tJREFUhNWHHhy6Ia4NARLWCAI5mmGK1sX8zWDFyY96ICvLz8oRupZOmD6rCsNVgiaPQnI3I21lsnzM3+Ru86rFLrqw9Kw81daPzZeFDRbKwJC66drqVqjOperH6hrt9UYXXZSaPu8e7yAYSbPoIsSJ6aPWrp/DMsL6t299q4dh5oiDpAI1K2FFyYr6z4+cNrw6z+GNcfIqhojSho3LJ+oXXbLKUADzHLzsDAERPg3xxIVLGy9uWTsvIMY6XNZuRiCsAy9iaHDTLK8mPnWDMKgrdYa4SR8/M5xhPtF74jPWHw4HEsYMCGlh2DFeNswaln/OnDl+eI+y2/JuhuuQu9UHYxFd3k1YlhczNEgacYRCOczfDKWRAGmz7NkWq1AHyy9axzCd0BCRNnUinhmxNHJPa7zj6p1mWXtY/lrox+QAedMrBEf0ZMAtCzHAQto6l6of6myrJ3lnwFvcsvZy0o/aiBDT0WXtIU4oG7qkwfXd737Xz9EhM4aVubgnbUYpKHOov3LuexCW+8Mf3C8+8pEepMXRD3EZNCNhxZEVdee8q7CHdVN3d6xM4uSEX1oSKiZcUl5R//CjQAwYxpBWoy1hT0s80XDR/5Yv/qHxxp/eBC10DDYX9/hZnLgWIs+ihIVfoQ9YCcOiEvuGBpKih8cHuhjhNIRlPalo65q0kScGi3SpC/NETExH68wKSPJF5hg9PsrG0IYEgg7IA50QjvR42e2DbV56jETUUJi/ERblCvPDqEKo5BctF2HtsnSi6ZsRM8ND+EJyT2u8SStab+RT6MNhKzNurfQDjmwI0/RII4i6Uo5i6lyKfsiD3ve6FB8Ol5o+eYQ2wt6XuA+HoziBsJh3BL98ymAjJ9YbZ26WIc0ku0rexV49Ccs5d27z5h7GmcPe4hJtNsJKEuqiyGKL7/cpfpuoYogobdg4nciv+BcgTmasnsLoh8OBceHkVxl5FyvHVtePfSMWNliKlWFWw19AWAwP/urP/7wHaXFKaLSCzUZY0frxn4UV7BkY9q6Wd3ZeIIu4uKFfWhIqJlyYvu4rZzhp/dNrig4HSsaVk3E5smw1/bCCNZwLRXY2Hxv3TWI5ss1C3FjC+o/XXuthpDHYXx8+vIehbgXCCje7RQYcX16KUjGAxZBRobCkV0o5FCfZ6LIoguFMJqEZoooaCckuWXa1kE0r6ofhQIZ1wSNzReE8GsPNrMKthewbKY9YwqKXxcKCsGfBfbhqsNkJ65udnT3qf6Z3b3fVmDElAYRjQyAZJt7LvUinHseQNBJoq1EW9u7j41DmfJhXCj8FqEZ+SrM4AmxV/YBDiApsMr8EeYXzaK2Go0TCQhCsEgxJ61Tv3jnSambCuisyb4UMFhb4kLrVgKP6FmdwJS/JSxgoHwN5CeuKsWPd0WD/PCOvOV1drlkJa1VHRw+Sps6PtbeX1LMSQMsHqGQoGQoDwoBhIC9hEeiLI0desPAAI/6Pn/nvOdKyxLLuPjJkyAVk9bf9+7tLx40TYZWwBDXreFD5ZSiFgcbCQEHCQmHMXZ2K6WkVs59eIyuejX43R761gpS3DRzoLhs/XmQlshIGhAFhoAEwkIqwIJvpo0e77/brd0EP5IGODndxho36Dd3djqNCbLjT3KcGDxZAGwCgjdzQUdkaq/UtfTS/PlITFmD41Nix7tUY487BhrdHlr1nATwrYuarIKx1RW69lIW6qozN/zJLx9Jxs2OgKMJCGJeMH+9eCM7Osh4J7u7+/d0tCVs5NZIgrx01yr0yYMAFvSrqsKKED4MbqW4qi4yWMCAMNCsGiiYsE8SDCb0TjP7fDBrkPjdqVMMNqTEfBSGFJGv3R/v2dax+tPrJ1UsvDAgDwkBjYaBkwkKRN3Z3ux2Rb7WMAHAPtLW5h4cMcWygS8+sXsq/cuxYx3L1H/fuHUtWjw8Z4j6hlYB100+9cKF8G8sYSR/SRyEMlEVYlvhXR4zw5BSSVdw9hyB+o7PTEZ7FDn8xZoz7aIUm9ln4cfm4cX7/P4j0r7q63LohQ9ybbW2xJEX52MiWslg95OqFEQaEAWGgcTFQEcIyBS/t7HQ/SujFxBGY+fFxMrvCs3efXTsHDHBcL5+/mHOKuzhMkR04LK20Lhv60vOyssttXJBKN9KNMCAMgIGKEhYJcjrvsmHDXPRI+bREUu1w3x482M1swPk1vZB6IYUBYUAYyI+BihNWKHDmrZi/YmiOnlC1ySgpfXppKzs7/XBhWD7d5weH5CP5CAPCQCNhoKqEFa0o33F9aeRIt2j4cPfNjg73RHu7X7RxsG9fd7JPH78F1Ie9ejmun190Uc8Lv1693E+D6ye9ernjffr4eSoWf2xqb/eLPFgJyMGL5KVtlfTCRXGo/8KEMJBNDNSUsASSbIJEepPehAFhoBEwIMKq0CrFRlCmyiCjIgwIA82MARGWCEsrJYUBYUAYyAQGRFgCaiaA2sytRtVNvSJhIB0GRFgiLBGWMCAMCAOZwIAIS0DNBFDVAk3XApWcJKdmxoAIS4QlwhIGhAFhIBMYEGEJqJkAajO3GlU39YqEgXQYEGGJsERYwoAwIAxkAgMiLAE1E0BVCzRdC1RykpyaGQMiLBGWCEsYEAaEgUxg4P8BFFTMcm1tUMIAAAAASUVORK5CYII=)"
      ]
    },
    {
      "cell_type": "code",
      "metadata": {
        "id": "r5rG5dUROdtL"
      },
      "source": [
        "!zip -r one-punch-man-s1.zip /content/one-punch-man  #zip -r <file_to_be_created.zip> /path/to/folder"
      ],
      "execution_count": null,
      "outputs": []
    },
    {
      "cell_type": "markdown",
      "metadata": {
        "id": "sEqiWjGCN8LI"
      },
      "source": [
        "2. **Connect your google drive**<br>\n",
        "Execute the cell, open the link in new tab, copy the code and paste the code in the input."
      ]
    },
    {
      "cell_type": "code",
      "metadata": {
        "id": "2ELdMWM3Nv-u"
      },
      "source": [
        "from google.colab import drive\n",
        "drive.mount(\"/gdrive\")"
      ],
      "execution_count": null,
      "outputs": []
    },
    {
      "cell_type": "markdown",
      "metadata": {
        "id": "CmazSZXfP2aa"
      },
      "source": [
        "3. **Moving to google drive**<br>\n",
        "Syntax is written in comments, just change the file and folder path."
      ]
    },
    {
      "cell_type": "code",
      "metadata": {
        "id": "0F2_v2nMQNQE"
      },
      "source": [
        "!mv /content/one-punch-man-s1.zip /gdrive/\"My Drive\"  # !mv /path/to/file.zip /path/to/google/drive"
      ],
      "execution_count": null,
      "outputs": []
    },
    {
      "cell_type": "markdown",
      "metadata": {
        "id": "ASNxqoDIQmR8"
      },
      "source": [
        "# <b>Done</b>\n",
        "Alright, everything's done. If you need any help, create an issue on the github repository of this notebook."
      ]
    }
  ]
}